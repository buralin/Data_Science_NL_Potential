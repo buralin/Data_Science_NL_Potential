{
 "cells": [
  {
   "cell_type": "code",
   "execution_count": 106,
   "metadata": {
    "collapsed": true
   },
   "outputs": [],
   "source": [
    "import numpy as np\n",
    "import os"
   ]
  },
  {
   "cell_type": "code",
   "execution_count": 129,
   "metadata": {},
   "outputs": [],
   "source": [
    "    \n",
    "for m in range(100):\n",
    "            input_file = open('Al_0.in', 'r')\n",
    "            input_file_lines_Al = input_file.readlines()\n",
    "            input_file.close()\n",
    "            poscar = open(\"../Random_Structures/Al/2/POSCAR_\"+str(m+1),\"r\")\n",
    "            input_file_lines_poscar = poscar.readlines()\n",
    "            for i, line in enumerate(input_file_lines_Al):\n",
    "                if 'prefix' in line:\n",
    "                    j1 = line.split('=')\n",
    "                    j1[-1] = \"'Al_\" + str(m+1)+\"_0'\" + '\\n'\n",
    "                    input_file_lines_Al[i] = '='.join(j1)\n",
    "                if 'CELL_PARAMETERS (alat)' in line:     \n",
    "                    j2 = line.split(' ')\n",
    "                    j2[-1] = '(angstrom)' + '\\n'\n",
    "                    input_file_lines_Al[i] = ' '.join(j2)\n",
    "                    lat1 = input_file_lines_Al[i + 1]\n",
    "                    lat1i = lat1.split(' ',1)\n",
    "                    lat1i[0] = input_file_lines_poscar[2]\n",
    "                    input_file_lines_Al[i + 1] = lat1i[0]\n",
    "                    lat2 = input_file_lines_Al[i + 2]\n",
    "                    lat2i = lat2.split(' ',1)\n",
    "                    lat2i[0] = input_file_lines_poscar[3]\n",
    "                    input_file_lines_Al[i + 2] = lat2i[0]\n",
    "                    lat3 = input_file_lines_Al[i + 3]\n",
    "                    lat3i = lat3.split(' ',1)\n",
    "                    lat3i[0] = input_file_lines_poscar[4]\n",
    "                    input_file_lines_Al[i + 3] = lat3i[0]\n",
    "                if 'ATOMIC_POSITIONS (crystal)' in line:                           \n",
    "                    j3 = line.split(' ')\n",
    "                    j3[-1] = '(alat)' + '\\n'\n",
    "                    input_file_lines_Al[i] = ' '.join(j3)\n",
    "                    pos1 = input_file_lines_Al[i + 1]\n",
    "                    pos1i = pos1.split('Al')\n",
    "                    pos1i[-1] = input_file_lines_poscar[7]\n",
    "                    input_file_lines_Al[i + 1] = 'Al'.join(pos1i)\n",
    "                    pos2 = input_file_lines_Al[i + 2]\n",
    "                    pos2i = pos2.split('Al')\n",
    "                    pos2i[-1] = input_file_lines_poscar[8]\n",
    "                    input_file_lines_Al[i + 2] = 'Al'.join(pos2i)           \n",
    "                    input_file_out = open('Al_'+str(m+1)+'_0.in', \"w\")\n",
    "                    for mm in input_file_lines_Al:\n",
    "                        input_file_out.write(\"%s\" % (mm))\n",
    "                    input_file_out.flush()\n",
    "            input_file_out.close()\n",
    "            poscar.close()\n",
    "\n"
   ]
  }
 ],
 "metadata": {
  "kernelspec": {
   "display_name": "Python 3",
   "language": "python",
   "name": "python3"
  },
  "language_info": {
   "codemirror_mode": {
    "name": "ipython",
    "version": 3
   },
   "file_extension": ".py",
   "mimetype": "text/x-python",
   "name": "python",
   "nbconvert_exporter": "python",
   "pygments_lexer": "ipython3",
   "version": "3.6.1"
  }
 },
 "nbformat": 4,
 "nbformat_minor": 2
}
