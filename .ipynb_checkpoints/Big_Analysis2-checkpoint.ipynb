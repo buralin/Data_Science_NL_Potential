{
 "cells": [
  {
   "cell_type": "code",
   "execution_count": 1,
   "metadata": {
    "collapsed": true
   },
   "outputs": [],
   "source": [
    "import numpy as np\n",
    "import matplotlib.pyplot as plt\n",
    "from sklearn.linear_model import LinearRegression\n",
    "from sklearn.neural_network import MLPRegressor\n",
    "from pbcpy.base import Cell\n",
    "from pbcpy.grid import Grid\n",
    "from pbcpy.grid_functions import Grid_Function_Base, Grid_Function, Grid_Function_Reciprocal, Grid_Space\n",
    "from pbcpy.base import Coord\n",
    "from pbcpy.system import System\n",
    "from pbcpy.formats.qepp import PP\n",
    "from pbcpy.formats.xsf import XSF"
   ]
  },
  {
   "cell_type": "markdown",
   "metadata": {},
   "source": [
    "# Big Data from Al:"
   ]
  },
  {
   "cell_type": "markdown",
   "metadata": {},
   "source": [
    "* reading in $\\rho_{i}$ and $v_{T}$ from calculations"
   ]
  },
  {
   "cell_type": "code",
   "execution_count": 63,
   "metadata": {
    "collapsed": true
   },
   "outputs": [],
   "source": [
    "number_of_columns = 100"
   ]
  },
  {
   "cell_type": "code",
   "execution_count": 64,
   "metadata": {
    "scrolled": true
   },
   "outputs": [
    {
     "name": "stdout",
     "output_type": "stream",
     "text": [
      "1\n",
      "(50, 50, 50) 125000\n",
      "(50, 50, 50) 125000\n",
      "2\n",
      "(50, 50, 50) 125000\n",
      "(50, 50, 50) 125000\n",
      "3\n",
      "(50, 50, 50) 125000\n",
      "(50, 50, 50) 125000\n",
      "4\n",
      "(50, 50, 50) 125000\n",
      "(50, 50, 50) 125000\n",
      "5\n",
      "(50, 50, 50) 125000\n",
      "(50, 50, 50) 125000\n",
      "6\n",
      "(50, 50, 50) 125000\n",
      "(50, 50, 50) 125000\n",
      "7\n",
      "(50, 50, 50) 125000\n",
      "(50, 50, 50) 125000\n",
      "8\n",
      "(50, 50, 50) 125000\n",
      "(50, 50, 50) 125000\n",
      "9\n",
      "(50, 50, 50) 125000\n",
      "(50, 50, 50) 125000\n",
      "10\n",
      "(50, 50, 50) 125000\n",
      "(50, 50, 50) 125000\n",
      "11\n",
      "(50, 50, 50) 125000\n",
      "(50, 50, 50) 125000\n",
      "12\n",
      "(50, 50, 50) 125000\n",
      "(50, 50, 50) 125000\n",
      "13\n",
      "(50, 50, 50) 125000\n",
      "(50, 50, 50) 125000\n",
      "14\n",
      "(50, 50, 50) 125000\n",
      "(50, 50, 50) 125000\n",
      "15\n",
      "(50, 50, 50) 125000\n",
      "(50, 50, 50) 125000\n",
      "16\n",
      "(50, 50, 50) 125000\n",
      "(50, 50, 50) 125000\n",
      "17\n",
      "(50, 50, 50) 125000\n",
      "(50, 50, 50) 125000\n",
      "18\n",
      "(50, 50, 50) 125000\n",
      "(50, 50, 50) 125000\n",
      "19\n",
      "(50, 50, 50) 125000\n",
      "(50, 50, 50) 125000\n",
      "20\n",
      "(50, 50, 50) 125000\n",
      "(50, 50, 50) 125000\n",
      "21\n",
      "(50, 50, 50) 125000\n",
      "(50, 50, 50) 125000\n",
      "22\n",
      "(50, 50, 50) 125000\n",
      "(50, 50, 50) 125000\n",
      "23\n",
      "(50, 50, 50) 125000\n",
      "(50, 50, 50) 125000\n",
      "24\n",
      "(50, 50, 50) 125000\n",
      "(50, 50, 50) 125000\n",
      "25\n",
      "(50, 50, 50) 125000\n",
      "(50, 50, 50) 125000\n",
      "26\n",
      "(50, 50, 50) 125000\n",
      "(50, 50, 50) 125000\n",
      "27\n",
      "(50, 50, 50) 125000\n",
      "(50, 50, 50) 125000\n",
      "28\n",
      "(50, 50, 50) 125000\n",
      "(50, 50, 50) 125000\n",
      "29\n",
      "(50, 50, 50) 125000\n",
      "(50, 50, 50) 125000\n",
      "30\n",
      "(50, 50, 50) 125000\n",
      "(50, 50, 50) 125000\n",
      "31\n",
      "(50, 50, 50) 125000\n",
      "(50, 50, 50) 125000\n",
      "32\n",
      "(50, 50, 50) 125000\n",
      "(50, 50, 50) 125000\n",
      "33\n",
      "(50, 50, 50) 125000\n",
      "(50, 50, 50) 125000\n",
      "34\n",
      "(50, 50, 50) 125000\n",
      "(50, 50, 50) 125000\n",
      "35\n",
      "(50, 50, 50) 125000\n",
      "(50, 50, 50) 125000\n",
      "36\n",
      "(50, 50, 50) 125000\n",
      "(50, 50, 50) 125000\n",
      "37\n",
      "(50, 50, 50) 125000\n",
      "(50, 50, 50) 125000\n",
      "38\n",
      "(50, 50, 50) 125000\n",
      "(50, 50, 50) 125000\n",
      "39\n",
      "(50, 50, 50) 125000\n",
      "(50, 50, 50) 125000\n",
      "40\n",
      "(50, 50, 50) 125000\n",
      "(50, 50, 50) 125000\n",
      "41\n",
      "(50, 50, 50) 125000\n",
      "(50, 50, 50) 125000\n",
      "42\n",
      "(50, 50, 50) 125000\n",
      "(50, 50, 50) 125000\n",
      "43\n",
      "(50, 50, 50) 125000\n",
      "(50, 50, 50) 125000\n",
      "44\n",
      "(50, 50, 50) 125000\n",
      "(50, 50, 50) 125000\n",
      "45\n",
      "(50, 50, 50) 125000\n",
      "(50, 50, 50) 125000\n",
      "46\n",
      "(50, 50, 50) 125000\n",
      "(50, 50, 50) 125000\n",
      "47\n",
      "(50, 50, 50) 125000\n",
      "(50, 50, 50) 125000\n",
      "48\n",
      "(50, 50, 50) 125000\n",
      "(50, 50, 50) 125000\n",
      "49\n",
      "(50, 50, 50) 125000\n",
      "(50, 50, 50) 125000\n",
      "50\n",
      "(50, 50, 50) 125000\n",
      "(50, 50, 50) 125000\n",
      "51\n",
      "(50, 50, 50) 125000\n",
      "(50, 50, 50) 125000\n",
      "52\n",
      "(50, 50, 50) 125000\n",
      "(50, 50, 50) 125000\n",
      "53\n",
      "(50, 50, 50) 125000\n",
      "(50, 50, 50) 125000\n",
      "54\n",
      "(50, 50, 50) 125000\n",
      "(50, 50, 50) 125000\n",
      "55\n",
      "(50, 50, 50) 125000\n",
      "(50, 50, 50) 125000\n",
      "56\n",
      "(50, 50, 50) 125000\n",
      "(50, 50, 50) 125000\n",
      "57\n",
      "(50, 50, 50) 125000\n",
      "(50, 50, 50) 125000\n",
      "58\n",
      "(50, 50, 50) 125000\n",
      "(50, 50, 50) 125000\n",
      "59\n",
      "(50, 50, 50) 125000\n",
      "(50, 50, 50) 125000\n",
      "60\n",
      "(50, 50, 50) 125000\n",
      "(50, 50, 50) 125000\n",
      "61\n",
      "(50, 50, 50) 125000\n",
      "(50, 50, 50) 125000\n",
      "62\n",
      "(50, 50, 50) 125000\n",
      "(50, 50, 50) 125000\n",
      "63\n",
      "(50, 50, 50) 125000\n",
      "(50, 50, 50) 125000\n",
      "64\n",
      "(50, 50, 50) 125000\n",
      "(50, 50, 50) 125000\n",
      "65\n",
      "(50, 50, 50) 125000\n",
      "(50, 50, 50) 125000\n",
      "66\n",
      "(50, 50, 50) 125000\n",
      "(50, 50, 50) 125000\n",
      "67\n",
      "(50, 50, 50) 125000\n",
      "(50, 50, 50) 125000\n",
      "68\n",
      "(50, 50, 50) 125000\n",
      "(50, 50, 50) 125000\n",
      "69\n",
      "(50, 50, 50) 125000\n",
      "(50, 50, 50) 125000\n",
      "70\n",
      "(50, 50, 50) 125000\n",
      "(50, 50, 50) 125000\n",
      "71\n",
      "(50, 50, 50) 125000\n",
      "(50, 50, 50) 125000\n",
      "72\n",
      "(50, 50, 50) 125000\n",
      "(50, 50, 50) 125000\n",
      "73\n",
      "(50, 50, 50) 125000\n",
      "(50, 50, 50) 125000\n",
      "74\n",
      "(50, 50, 50) 125000\n",
      "(50, 50, 50) 125000\n",
      "75\n",
      "(50, 50, 50) 125000\n",
      "(50, 50, 50) 125000\n",
      "76\n",
      "(50, 50, 50) 125000\n",
      "(50, 50, 50) 125000\n",
      "77\n",
      "(50, 50, 50) 125000\n",
      "(50, 50, 50) 125000\n",
      "78\n",
      "(50, 50, 50) 125000\n",
      "(50, 50, 50) 125000\n",
      "79\n",
      "(50, 50, 50) 125000\n",
      "(50, 50, 50) 125000\n",
      "80\n",
      "(50, 50, 50) 125000\n",
      "(50, 50, 50) 125000\n",
      "81\n",
      "(50, 50, 50) 125000\n",
      "(50, 50, 50) 125000\n",
      "82\n",
      "(50, 50, 50) 125000\n",
      "(50, 50, 50) 125000\n",
      "83\n",
      "(50, 50, 50) 125000\n",
      "(50, 50, 50) 125000\n",
      "84\n",
      "(50, 50, 50) 125000\n",
      "(50, 50, 50) 125000\n",
      "85\n",
      "(50, 50, 50) 125000\n",
      "(50, 50, 50) 125000\n",
      "86\n",
      "(50, 50, 50) 125000\n",
      "(50, 50, 50) 125000\n",
      "87\n",
      "(50, 50, 50) 125000\n",
      "(50, 50, 50) 125000\n",
      "88\n",
      "(50, 50, 50) 125000\n",
      "(50, 50, 50) 125000\n",
      "89\n",
      "(50, 50, 50) 125000\n",
      "(50, 50, 50) 125000\n",
      "90\n",
      "(50, 50, 50) 125000\n",
      "(50, 50, 50) 125000\n",
      "91\n",
      "(50, 50, 50) 125000\n",
      "(50, 50, 50) 125000\n",
      "92\n",
      "(50, 50, 50) 125000\n",
      "(50, 50, 50) 125000\n",
      "93\n",
      "(50, 50, 50) 125000\n",
      "(50, 50, 50) 125000\n",
      "94\n",
      "(50, 50, 50) 125000\n",
      "(50, 50, 50) 125000\n",
      "95\n",
      "(50, 50, 50) 125000\n",
      "(50, 50, 50) 125000\n",
      "96\n",
      "(50, 50, 50) 125000\n",
      "(50, 50, 50) 125000\n",
      "97\n",
      "(50, 50, 50) 125000\n",
      "(50, 50, 50) 125000\n",
      "98\n",
      "(50, 50, 50) 125000\n",
      "(50, 50, 50) 125000\n",
      "99\n",
      "(50, 50, 50) 125000\n",
      "(50, 50, 50) 125000\n",
      "100\n",
      "(50, 50, 50) 125000\n",
      "(50, 50, 50) 125000\n"
     ]
    }
   ],
   "source": [
    "data_dens = np.zeros((number_of_columns,125000))\n",
    "data_vt = np.zeros((number_of_columns,125000))\n",
    "\n",
    "for i in range(1,number_of_columns+1):\n",
    "    #if i == 68:\n",
    "    #    print('NOT CONVERGED')\n",
    "    #else:\n",
    "    print(i)\n",
    "    density = PP('Densities2/Al_'+str(i)+'_0_fde_0rho.pp').read()\n",
    "    kin_pot = PP('Potentials2/Al_'+str(i)+'_0_vt_rhotot_alph.pp').read()\n",
    "    rho = density.plot\n",
    "    v_t = kin_pot.plot\n",
    "    \n",
    "    grid_real_rho = Grid_Space(rho.grid.at,rho.grid.nr)\n",
    "    grid_real_vt = Grid_Space(v_t.grid.at,v_t.grid.nr)\n",
    "\n",
    "    mydens = Grid_Function(grid_real_rho,griddata_3d=rho.values)\n",
    "    myvt = Grid_Function(grid_real_vt,griddata_3d=v_t.values)\n",
    "    \n",
    "    data_dens[i-1] = mydens.get_values_flatarray()\n",
    "    data_vt[i-1] = myvt.get_values_flatarray()"
   ]
  },
  {
   "cell_type": "code",
   "execution_count": 65,
   "metadata": {},
   "outputs": [
    {
     "data": {
      "text/plain": [
       "((100, 125000), (100, 125000))"
      ]
     },
     "execution_count": 65,
     "metadata": {},
     "output_type": "execute_result"
    }
   ],
   "source": [
    "np.shape(data_dens), np.shape(data_vt)"
   ]
  },
  {
   "cell_type": "code",
   "execution_count": 66,
   "metadata": {
    "collapsed": true
   },
   "outputs": [],
   "source": [
    "X = np.zeros((number_of_columns,grid))\n",
    "Y = np.zeros((number_of_columns,grid))\n",
    "\n",
    "for i in range(number_of_columns):\n",
    "    indx  = np.argsort(data_dens[i])\n",
    "    #indx2 = np.argsort(data_vt[i])\n",
    "    X[i] = data_dens[i][indx]\n",
    "    Y[i] = data_vt[i][indx]"
   ]
  },
  {
   "cell_type": "code",
   "execution_count": 67,
   "metadata": {
    "scrolled": true
   },
   "outputs": [
    {
     "data": {
      "image/png": "[encoded data removed]",
      "text/plain": [
       "<matplotlib.figure.Figure at 0x7f182b3f73c8>"
      ]
     },
     "metadata": {},
     "output_type": "display_data"
    }
   ],
   "source": [
    "plt.scatter(X[3],Y[3])\n",
    "plt.xlabel('density')\n",
    "plt.ylabel('v_t')\n",
    "plt.show()"
   ]
  },
  {
   "cell_type": "code",
   "execution_count": 68,
   "metadata": {},
   "outputs": [
    {
     "data": {
      "text/plain": [
       "((100, 125000), (100, 125000))"
      ]
     },
     "execution_count": 68,
     "metadata": {},
     "output_type": "execute_result"
    }
   ],
   "source": [
    "np.shape(X), np.shape(Y)"
   ]
  },
  {
   "cell_type": "code",
   "execution_count": 73,
   "metadata": {
    "collapsed": true
   },
   "outputs": [],
   "source": [
    "from sklearn.neural_network import MLPRegressor\n",
    "from sklearn.model_selection import train_test_split, cross_val_score"
   ]
  },
  {
   "cell_type": "code",
   "execution_count": 74,
   "metadata": {},
   "outputs": [],
   "source": [
    "X_train, X_test, Y_train, Y_test = train_test_split(X,Y,test_size = 0.5, train_size = 0.5)"
   ]
  },
  {
   "cell_type": "code",
   "execution_count": 75,
   "metadata": {},
   "outputs": [
    {
     "data": {
      "text/plain": [
       "((50, 125000), (50, 125000), (50, 125000), (50, 125000))"
      ]
     },
     "execution_count": 75,
     "metadata": {},
     "output_type": "execute_result"
    }
   ],
   "source": [
    "np.shape(X_train), np.shape(X_test), np.shape(Y_test), np.shape(Y_train)"
   ]
  },
  {
   "cell_type": "code",
   "execution_count": 87,
   "metadata": {
    "collapsed": true
   },
   "outputs": [],
   "source": [
    "model2 = MLPRegressor(hidden_layer_sizes=(30,30))"
   ]
  },
  {
   "cell_type": "code",
   "execution_count": 88,
   "metadata": {},
   "outputs": [],
   "source": [
    "scores = cross_val_score(model2,X,Y,cv=4)"
   ]
  },
  {
   "cell_type": "code",
   "execution_count": 89,
   "metadata": {},
   "outputs": [
    {
     "data": {
      "text/plain": [
       "array([-5.26660094, -5.48151953, -5.85310178, -5.84675388])"
      ]
     },
     "execution_count": 89,
     "metadata": {},
     "output_type": "execute_result"
    }
   ],
   "source": [
    "scores"
   ]
  },
  {
   "cell_type": "code",
   "execution_count": 14,
   "metadata": {},
   "outputs": [
    {
     "data": {
      "text/plain": [
       "MLPRegressor(activation='relu', alpha=0.01, batch_size='auto', beta_1=0.9,\n",
       "       beta_2=0.999, early_stopping=False, epsilon=1e-08,\n",
       "       hidden_layer_sizes=(20, 20), learning_rate='constant',\n",
       "       learning_rate_init=0.001, max_iter=200, momentum=0.9,\n",
       "       nesterovs_momentum=True, power_t=0.5, random_state=None,\n",
       "       shuffle=True, solver='adam', tol=0.0001, validation_fraction=0.1,\n",
       "       verbose=False, warm_start=False)"
      ]
     },
     "execution_count": 14,
     "metadata": {},
     "output_type": "execute_result"
    }
   ],
   "source": [
    "model2.fit(X,Y)"
   ]
  },
  {
   "cell_type": "code",
   "execution_count": 15,
   "metadata": {},
   "outputs": [
    {
     "data": {
      "text/plain": [
       "-4.2455506219883681"
      ]
     },
     "execution_count": 15,
     "metadata": {},
     "output_type": "execute_result"
    }
   ],
   "source": [
    "model2.score(X,Y)"
   ]
  },
  {
   "cell_type": "code",
   "execution_count": 16,
   "metadata": {},
   "outputs": [
    {
     "data": {
      "text/plain": [
       "(100, 125000)"
      ]
     },
     "execution_count": 16,
     "metadata": {},
     "output_type": "execute_result"
    }
   ],
   "source": [
    "acc2 = model2.predict(X)-Y\n",
    "np.shape(Y)"
   ]
  },
  {
   "cell_type": "code",
   "execution_count": 17,
   "metadata": {},
   "outputs": [
    {
     "data": {
      "image/png": "[encoded data removed]",
      "text/plain": [
       "<matplotlib.figure.Figure at 0x7f1824c475c0>"
      ]
     },
     "metadata": {},
     "output_type": "display_data"
    }
   ],
   "source": [
    "plt.scatter(np.arange(0,grid,1),acc2[20])\n",
    "plt.show()"
   ]
  },
  {
   "cell_type": "code",
   "execution_count": null,
   "metadata": {
    "collapsed": true
   },
   "outputs": [],
   "source": []
  }
 ],
 "metadata": {
  "kernelspec": {
   "display_name": "Python 3",
   "language": "python",
   "name": "python3"
  },
  "language_info": {
   "codemirror_mode": {
    "name": "ipython",
    "version": 3
   },
   "file_extension": ".py",
   "mimetype": "text/x-python",
   "name": "python",
   "nbconvert_exporter": "python",
   "pygments_lexer": "ipython3",
   "version": "3.6.1"
  }
 },
 "nbformat": 4,
 "nbformat_minor": 2
}
