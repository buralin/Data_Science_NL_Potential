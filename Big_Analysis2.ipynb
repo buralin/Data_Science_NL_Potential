{
 "cells": [
  {
   "cell_type": "code",
   "execution_count": 1,
   "metadata": {
    "collapsed": true
   },
   "outputs": [],
   "source": [
    "import numpy as np\n",
    "import matplotlib.pyplot as plt\n",
    "from sklearn.linear_model import LinearRegression\n",
    "from sklearn.neural_network import MLPRegressor\n",
    "from pbcpy.base import Cell\n",
    "from pbcpy.grid import Grid\n",
    "from pbcpy.grid_functions import Grid_Function_Base, Grid_Function, Grid_Function_Reciprocal, Grid_Space\n",
    "from pbcpy.base import Coord\n",
    "from pbcpy.system import System\n",
    "from pbcpy.formats.qepp import PP\n",
    "from pbcpy.formats.xsf import XSF"
   ]
  },
  {
   "cell_type": "markdown",
   "metadata": {},
   "source": [
    "# Big Data from Al:"
   ]
  },
  {
   "cell_type": "markdown",
   "metadata": {},
   "source": [
    "* reading in $\\rho_{i}$ and $v_{T}$ from calculations"
   ]
  },
  {
   "cell_type": "code",
   "execution_count": 2,
   "metadata": {
    "collapsed": true
   },
   "outputs": [],
   "source": [
    "number_of_columns = 100"
   ]
  },
  {
   "cell_type": "code",
   "execution_count": 3,
   "metadata": {
    "scrolled": true
   },
   "outputs": [
    {
     "name": "stdout",
     "output_type": "stream",
     "text": [
      "1\n",
      "(50, 50, 50) 125000\n",
      "(50, 50, 50) 125000\n",
      "2\n",
      "(50, 50, 50) 125000\n",
      "(50, 50, 50) 125000\n",
      "3\n",
      "(50, 50, 50) 125000\n",
      "(50, 50, 50) 125000\n",
      "4\n",
      "(50, 50, 50) 125000\n",
      "(50, 50, 50) 125000\n",
      "5\n",
      "(50, 50, 50) 125000\n",
      "(50, 50, 50) 125000\n",
      "6\n",
      "(50, 50, 50) 125000\n",
      "(50, 50, 50) 125000\n",
      "7\n",
      "(50, 50, 50) 125000\n",
      "(50, 50, 50) 125000\n",
      "8\n",
      "(50, 50, 50) 125000\n",
      "(50, 50, 50) 125000\n",
      "9\n",
      "(50, 50, 50) 125000\n",
      "(50, 50, 50) 125000\n",
      "10\n",
      "(50, 50, 50) 125000\n",
      "(50, 50, 50) 125000\n",
      "11\n",
      "(50, 50, 50) 125000\n",
      "(50, 50, 50) 125000\n",
      "12\n",
      "(50, 50, 50) 125000\n",
      "(50, 50, 50) 125000\n",
      "13\n",
      "(50, 50, 50) 125000\n",
      "(50, 50, 50) 125000\n",
      "14\n",
      "(50, 50, 50) 125000\n",
      "(50, 50, 50) 125000\n",
      "15\n",
      "(50, 50, 50) 125000\n",
      "(50, 50, 50) 125000\n",
      "16\n",
      "(50, 50, 50) 125000\n",
      "(50, 50, 50) 125000\n",
      "17\n",
      "(50, 50, 50) 125000\n",
      "(50, 50, 50) 125000\n",
      "18\n",
      "(50, 50, 50) 125000\n",
      "(50, 50, 50) 125000\n",
      "19\n",
      "(50, 50, 50) 125000\n",
      "(50, 50, 50) 125000\n",
      "20\n",
      "(50, 50, 50) 125000\n",
      "(50, 50, 50) 125000\n",
      "21\n",
      "(50, 50, 50) 125000\n",
      "(50, 50, 50) 125000\n",
      "22\n",
      "(50, 50, 50) 125000\n",
      "(50, 50, 50) 125000\n",
      "23\n",
      "(50, 50, 50) 125000\n",
      "(50, 50, 50) 125000\n",
      "24\n",
      "(50, 50, 50) 125000\n",
      "(50, 50, 50) 125000\n",
      "25\n",
      "(50, 50, 50) 125000\n",
      "(50, 50, 50) 125000\n",
      "26\n",
      "(50, 50, 50) 125000\n",
      "(50, 50, 50) 125000\n",
      "27\n",
      "(50, 50, 50) 125000\n",
      "(50, 50, 50) 125000\n",
      "28\n",
      "(50, 50, 50) 125000\n",
      "(50, 50, 50) 125000\n",
      "29\n",
      "(50, 50, 50) 125000\n",
      "(50, 50, 50) 125000\n",
      "30\n",
      "(50, 50, 50) 125000\n",
      "(50, 50, 50) 125000\n",
      "31\n",
      "(50, 50, 50) 125000\n",
      "(50, 50, 50) 125000\n",
      "32\n",
      "(50, 50, 50) 125000\n",
      "(50, 50, 50) 125000\n",
      "33\n",
      "(50, 50, 50) 125000\n",
      "(50, 50, 50) 125000\n",
      "34\n",
      "(50, 50, 50) 125000\n",
      "(50, 50, 50) 125000\n",
      "35\n",
      "(50, 50, 50) 125000\n",
      "(50, 50, 50) 125000\n",
      "36\n",
      "(50, 50, 50) 125000\n",
      "(50, 50, 50) 125000\n",
      "37\n",
      "(50, 50, 50) 125000\n",
      "(50, 50, 50) 125000\n",
      "38\n",
      "(50, 50, 50) 125000\n",
      "(50, 50, 50) 125000\n",
      "39\n",
      "(50, 50, 50) 125000\n",
      "(50, 50, 50) 125000\n",
      "40\n",
      "(50, 50, 50) 125000\n",
      "(50, 50, 50) 125000\n",
      "41\n",
      "(50, 50, 50) 125000\n",
      "(50, 50, 50) 125000\n",
      "42\n",
      "(50, 50, 50) 125000\n",
      "(50, 50, 50) 125000\n",
      "43\n",
      "(50, 50, 50) 125000\n",
      "(50, 50, 50) 125000\n",
      "44\n",
      "(50, 50, 50) 125000\n",
      "(50, 50, 50) 125000\n",
      "45\n",
      "(50, 50, 50) 125000\n",
      "(50, 50, 50) 125000\n",
      "46\n",
      "(50, 50, 50) 125000\n",
      "(50, 50, 50) 125000\n",
      "47\n",
      "(50, 50, 50) 125000\n",
      "(50, 50, 50) 125000\n",
      "48\n",
      "(50, 50, 50) 125000\n",
      "(50, 50, 50) 125000\n",
      "49\n",
      "(50, 50, 50) 125000\n",
      "(50, 50, 50) 125000\n",
      "50\n",
      "(50, 50, 50) 125000\n",
      "(50, 50, 50) 125000\n",
      "51\n",
      "(50, 50, 50) 125000\n",
      "(50, 50, 50) 125000\n",
      "52\n",
      "(50, 50, 50) 125000\n",
      "(50, 50, 50) 125000\n",
      "53\n",
      "(50, 50, 50) 125000\n",
      "(50, 50, 50) 125000\n",
      "54\n",
      "(50, 50, 50) 125000\n",
      "(50, 50, 50) 125000\n",
      "55\n",
      "(50, 50, 50) 125000\n",
      "(50, 50, 50) 125000\n",
      "56\n",
      "(50, 50, 50) 125000\n",
      "(50, 50, 50) 125000\n",
      "57\n",
      "(50, 50, 50) 125000\n",
      "(50, 50, 50) 125000\n",
      "58\n",
      "(50, 50, 50) 125000\n",
      "(50, 50, 50) 125000\n",
      "59\n",
      "(50, 50, 50) 125000\n",
      "(50, 50, 50) 125000\n",
      "60\n",
      "(50, 50, 50) 125000\n",
      "(50, 50, 50) 125000\n",
      "61\n",
      "(50, 50, 50) 125000\n",
      "(50, 50, 50) 125000\n",
      "62\n",
      "(50, 50, 50) 125000\n",
      "(50, 50, 50) 125000\n",
      "63\n",
      "(50, 50, 50) 125000\n",
      "(50, 50, 50) 125000\n",
      "64\n",
      "(50, 50, 50) 125000\n",
      "(50, 50, 50) 125000\n",
      "65\n",
      "(50, 50, 50) 125000\n",
      "(50, 50, 50) 125000\n",
      "66\n",
      "(50, 50, 50) 125000\n",
      "(50, 50, 50) 125000\n",
      "67\n",
      "(50, 50, 50) 125000\n",
      "(50, 50, 50) 125000\n",
      "68\n",
      "(50, 50, 50) 125000\n",
      "(50, 50, 50) 125000\n",
      "69\n",
      "(50, 50, 50) 125000\n",
      "(50, 50, 50) 125000\n",
      "70\n",
      "(50, 50, 50) 125000\n",
      "(50, 50, 50) 125000\n",
      "71\n",
      "(50, 50, 50) 125000\n",
      "(50, 50, 50) 125000\n",
      "72\n",
      "(50, 50, 50) 125000\n",
      "(50, 50, 50) 125000\n",
      "73\n",
      "(50, 50, 50) 125000\n",
      "(50, 50, 50) 125000\n",
      "74\n",
      "(50, 50, 50) 125000\n",
      "(50, 50, 50) 125000\n",
      "75\n",
      "(50, 50, 50) 125000\n",
      "(50, 50, 50) 125000\n",
      "76\n",
      "(50, 50, 50) 125000\n",
      "(50, 50, 50) 125000\n",
      "77\n",
      "(50, 50, 50) 125000\n",
      "(50, 50, 50) 125000\n",
      "78\n",
      "(50, 50, 50) 125000\n",
      "(50, 50, 50) 125000\n",
      "79\n",
      "(50, 50, 50) 125000\n",
      "(50, 50, 50) 125000\n",
      "80\n",
      "(50, 50, 50) 125000\n",
      "(50, 50, 50) 125000\n",
      "81\n",
      "(50, 50, 50) 125000\n",
      "(50, 50, 50) 125000\n",
      "82\n",
      "(50, 50, 50) 125000\n",
      "(50, 50, 50) 125000\n",
      "83\n",
      "(50, 50, 50) 125000\n",
      "(50, 50, 50) 125000\n",
      "84\n",
      "(50, 50, 50) 125000\n",
      "(50, 50, 50) 125000\n",
      "85\n",
      "(50, 50, 50) 125000\n",
      "(50, 50, 50) 125000\n",
      "86\n",
      "(50, 50, 50) 125000\n",
      "(50, 50, 50) 125000\n",
      "87\n",
      "(50, 50, 50) 125000\n",
      "(50, 50, 50) 125000\n",
      "88\n",
      "(50, 50, 50) 125000\n",
      "(50, 50, 50) 125000\n",
      "89\n",
      "(50, 50, 50) 125000\n",
      "(50, 50, 50) 125000\n",
      "90\n",
      "(50, 50, 50) 125000\n",
      "(50, 50, 50) 125000\n",
      "91\n",
      "(50, 50, 50) 125000\n",
      "(50, 50, 50) 125000\n",
      "92\n",
      "(50, 50, 50) 125000\n",
      "(50, 50, 50) 125000\n",
      "93\n",
      "(50, 50, 50) 125000\n",
      "(50, 50, 50) 125000\n",
      "94\n",
      "(50, 50, 50) 125000\n",
      "(50, 50, 50) 125000\n",
      "95\n",
      "(50, 50, 50) 125000\n",
      "(50, 50, 50) 125000\n",
      "96\n",
      "(50, 50, 50) 125000\n",
      "(50, 50, 50) 125000\n",
      "97\n",
      "(50, 50, 50) 125000\n",
      "(50, 50, 50) 125000\n",
      "98\n",
      "(50, 50, 50) 125000\n",
      "(50, 50, 50) 125000\n",
      "99\n",
      "(50, 50, 50) 125000\n",
      "(50, 50, 50) 125000\n",
      "100\n",
      "(50, 50, 50) 125000\n",
      "(50, 50, 50) 125000\n"
     ]
    }
   ],
   "source": [
    "data_dens = np.zeros((number_of_columns,125000))\n",
    "data_vt = np.zeros((number_of_columns,125000))\n",
    "\n",
    "for i in range(1,number_of_columns+1):\n",
    "    #if i == 68:\n",
    "    #    print('NOT CONVERGED')\n",
    "    #else:\n",
    "    print(i)\n",
    "    density = PP('Densities2/Al_'+str(i)+'_0_fde_0rho.pp').read()\n",
    "    kin_pot = PP('Potentials2/Al_'+str(i)+'_0_vt_rhotot_alph.pp').read()\n",
    "    rho = density.plot\n",
    "    v_t = kin_pot.plot\n",
    "    \n",
    "    grid_real_rho = Grid_Space(rho.grid.at,rho.grid.nr)\n",
    "    grid_real_vt = Grid_Space(v_t.grid.at,v_t.grid.nr)\n",
    "\n",
    "    mydens = Grid_Function(grid_real_rho,griddata_3d=rho.values)\n",
    "    myvt = Grid_Function(grid_real_vt,griddata_3d=v_t.values)\n",
    "    \n",
    "    data_dens[i-1] = mydens.get_values_flatarray()\n",
    "    data_vt[i-1] = myvt.get_values_flatarray()"
   ]
  },
  {
   "cell_type": "code",
   "execution_count": 4,
   "metadata": {},
   "outputs": [
    {
     "data": {
      "text/plain": [
       "((100, 125000), (100, 125000))"
      ]
     },
     "execution_count": 4,
     "metadata": {},
     "output_type": "execute_result"
    }
   ],
   "source": [
    "np.shape(data_dens), np.shape(data_vt)"
   ]
  },
  {
   "cell_type": "code",
   "execution_count": 5,
   "metadata": {
    "collapsed": true
   },
   "outputs": [],
   "source": [
    "grid = 125000\n",
    "#X = data_dens\n",
    "#Y = data_vt"
   ]
  },
  {
   "cell_type": "code",
   "execution_count": 6,
   "metadata": {
    "collapsed": true
   },
   "outputs": [],
   "source": [
    "X = np.zeros((number_of_columns,grid))\n",
    "Y = np.zeros((number_of_columns,grid))\n",
    "\n",
    "for i in range(number_of_columns):\n",
    "    indx  = np.argsort(data_dens[i])\n",
    "    #indx2 = np.argsort(data_vt[i])\n",
    "    X[i] = data_dens[i][indx[0:grid]]\n",
    "    Y[i] = data_vt[i][indx[0:grid]]"
   ]
  },
  {
   "cell_type": "code",
   "execution_count": 7,
   "metadata": {
    "scrolled": true
   },
   "outputs": [
    {
     "data": {
      "image/png": "[encoded data removed]",
      "text/plain": [
       "<matplotlib.figure.Figure at 0x7fabf8948198>"
      ]
     },
     "metadata": {},
     "output_type": "display_data"
    },
    {
     "data": {
      "text/plain": [
       "(12488532,)"
      ]
     },
     "execution_count": 7,
     "metadata": {},
     "output_type": "execute_result"
    }
   ],
   "source": [
    "plt.scatter(X[3][0:10000],Y[3][0:10000])\n",
    "plt.xlabel('density')\n",
    "plt.ylabel('v_t')\n",
    "plt.show()\n",
    "\n",
    "np.shape(np.unique(X))"
   ]
  },
  {
   "cell_type": "code",
   "execution_count": 8,
   "metadata": {},
   "outputs": [
    {
     "data": {
      "text/plain": [
       "((100, 125000), (100, 125000))"
      ]
     },
     "execution_count": 8,
     "metadata": {},
     "output_type": "execute_result"
    }
   ],
   "source": [
    "np.shape(X), np.shape(Y)"
   ]
  },
  {
   "cell_type": "code",
   "execution_count": 9,
   "metadata": {
    "collapsed": true
   },
   "outputs": [],
   "source": [
    "from sklearn.neural_network import MLPRegressor"
   ]
  },
  {
   "cell_type": "code",
   "execution_count": 12,
   "metadata": {
    "collapsed": true
   },
   "outputs": [],
   "source": [
    "model2 = MLPRegressor(hidden_layer_sizes=(150,150), alpha=0.01)"
   ]
  },
  {
   "cell_type": "code",
   "execution_count": 13,
   "metadata": {},
   "outputs": [
    {
     "ename": "MemoryError",
     "evalue": "",
     "output_type": "error",
     "traceback": [
      "\u001b[0;31m---------------------------------------------------------------------------\u001b[0m",
      "\u001b[0;31mMemoryError\u001b[0m                               Traceback (most recent call last)",
      "\u001b[0;32m<ipython-input-13-6ffcc7072562>\u001b[0m in \u001b[0;36m<module>\u001b[0;34m()\u001b[0m\n\u001b[0;32m----> 1\u001b[0;31m \u001b[0mmodel2\u001b[0m\u001b[0;34m.\u001b[0m\u001b[0mfit\u001b[0m\u001b[0;34m(\u001b[0m\u001b[0mX\u001b[0m\u001b[0;34m,\u001b[0m\u001b[0mY\u001b[0m\u001b[0;34m)\u001b[0m\u001b[0;34m\u001b[0m\u001b[0m\n\u001b[0m",
      "\u001b[0;32m/home/johannes/anaconda3/lib/python3.6/site-packages/sklearn/neural_network/multilayer_perceptron.py\u001b[0m in \u001b[0;36mfit\u001b[0;34m(self, X, y)\u001b[0m\n\u001b[1;32m    616\u001b[0m         \u001b[0mself\u001b[0m \u001b[0;34m:\u001b[0m \u001b[0mreturns\u001b[0m \u001b[0ma\u001b[0m \u001b[0mtrained\u001b[0m \u001b[0mMLP\u001b[0m \u001b[0mmodel\u001b[0m\u001b[0;34m.\u001b[0m\u001b[0;34m\u001b[0m\u001b[0m\n\u001b[1;32m    617\u001b[0m         \"\"\"\n\u001b[0;32m--> 618\u001b[0;31m         \u001b[0;32mreturn\u001b[0m \u001b[0mself\u001b[0m\u001b[0;34m.\u001b[0m\u001b[0m_fit\u001b[0m\u001b[0;34m(\u001b[0m\u001b[0mX\u001b[0m\u001b[0;34m,\u001b[0m \u001b[0my\u001b[0m\u001b[0;34m,\u001b[0m \u001b[0mincremental\u001b[0m\u001b[0;34m=\u001b[0m\u001b[0;32mFalse\u001b[0m\u001b[0;34m)\u001b[0m\u001b[0;34m\u001b[0m\u001b[0m\n\u001b[0m\u001b[1;32m    619\u001b[0m \u001b[0;34m\u001b[0m\u001b[0m\n\u001b[1;32m    620\u001b[0m     \u001b[0;34m@\u001b[0m\u001b[0mproperty\u001b[0m\u001b[0;34m\u001b[0m\u001b[0m\n",
      "\u001b[0;32m/home/johannes/anaconda3/lib/python3.6/site-packages/sklearn/neural_network/multilayer_perceptron.py\u001b[0m in \u001b[0;36m_fit\u001b[0;34m(self, X, y, incremental)\u001b[0m\n\u001b[1;32m    346\u001b[0m                                            incremental):\n\u001b[1;32m    347\u001b[0m             \u001b[0;31m# First time training the model\u001b[0m\u001b[0;34m\u001b[0m\u001b[0;34m\u001b[0m\u001b[0m\n\u001b[0;32m--> 348\u001b[0;31m             \u001b[0mself\u001b[0m\u001b[0;34m.\u001b[0m\u001b[0m_initialize\u001b[0m\u001b[0;34m(\u001b[0m\u001b[0my\u001b[0m\u001b[0;34m,\u001b[0m \u001b[0mlayer_units\u001b[0m\u001b[0;34m)\u001b[0m\u001b[0;34m\u001b[0m\u001b[0m\n\u001b[0m\u001b[1;32m    349\u001b[0m \u001b[0;34m\u001b[0m\u001b[0m\n\u001b[1;32m    350\u001b[0m         \u001b[0;31m# lbfgs does not support mini-batches\u001b[0m\u001b[0;34m\u001b[0m\u001b[0;34m\u001b[0m\u001b[0m\n",
      "\u001b[0;32m/home/johannes/anaconda3/lib/python3.6/site-packages/sklearn/neural_network/multilayer_perceptron.py\u001b[0m in \u001b[0;36m_initialize\u001b[0;34m(self, y, layer_units)\u001b[0m\n\u001b[1;32m    284\u001b[0m         \u001b[0;32mfor\u001b[0m \u001b[0mi\u001b[0m \u001b[0;32min\u001b[0m \u001b[0mrange\u001b[0m\u001b[0;34m(\u001b[0m\u001b[0mself\u001b[0m\u001b[0;34m.\u001b[0m\u001b[0mn_layers_\u001b[0m \u001b[0;34m-\u001b[0m \u001b[0;36m1\u001b[0m\u001b[0;34m)\u001b[0m\u001b[0;34m:\u001b[0m\u001b[0;34m\u001b[0m\u001b[0m\n\u001b[1;32m    285\u001b[0m             coef_init, intercept_init = self._init_coef(layer_units[i],\n\u001b[0;32m--> 286\u001b[0;31m                                                         layer_units[i + 1])\n\u001b[0m\u001b[1;32m    287\u001b[0m             \u001b[0mself\u001b[0m\u001b[0;34m.\u001b[0m\u001b[0mcoefs_\u001b[0m\u001b[0;34m.\u001b[0m\u001b[0mappend\u001b[0m\u001b[0;34m(\u001b[0m\u001b[0mcoef_init\u001b[0m\u001b[0;34m)\u001b[0m\u001b[0;34m\u001b[0m\u001b[0m\n\u001b[1;32m    288\u001b[0m             \u001b[0mself\u001b[0m\u001b[0;34m.\u001b[0m\u001b[0mintercepts_\u001b[0m\u001b[0;34m.\u001b[0m\u001b[0mappend\u001b[0m\u001b[0;34m(\u001b[0m\u001b[0mintercept_init\u001b[0m\u001b[0;34m)\u001b[0m\u001b[0;34m\u001b[0m\u001b[0m\n",
      "\u001b[0;32m/home/johannes/anaconda3/lib/python3.6/site-packages/sklearn/neural_network/multilayer_perceptron.py\u001b[0m in \u001b[0;36m_init_coef\u001b[0;34m(self, fan_in, fan_out)\u001b[0m\n\u001b[1;32m    310\u001b[0m \u001b[0;34m\u001b[0m\u001b[0m\n\u001b[1;32m    311\u001b[0m         coef_init = self._random_state.uniform(-init_bound, init_bound,\n\u001b[0;32m--> 312\u001b[0;31m                                                (fan_in, fan_out))\n\u001b[0m\u001b[1;32m    313\u001b[0m         intercept_init = self._random_state.uniform(-init_bound, init_bound,\n\u001b[1;32m    314\u001b[0m                                                     fan_out)\n",
      "\u001b[0;32mmtrand.pyx\u001b[0m in \u001b[0;36mmtrand.RandomState.uniform (numpy/random/mtrand/mtrand.c:19304)\u001b[0;34m()\u001b[0m\n",
      "\u001b[0;32mmtrand.pyx\u001b[0m in \u001b[0;36mmtrand.cont2_array_sc (numpy/random/mtrand/mtrand.c:7401)\u001b[0;34m()\u001b[0m\n",
      "\u001b[0;31mMemoryError\u001b[0m: "
     ]
    }
   ],
   "source": [
    "model2.fit(X,Y)"
   ]
  },
  {
   "cell_type": "code",
   "execution_count": null,
   "metadata": {},
   "outputs": [],
   "source": [
    "model2.score(X,Y)"
   ]
  },
  {
   "cell_type": "code",
   "execution_count": null,
   "metadata": {},
   "outputs": [],
   "source": [
    "acc2 = model2.predict(X)-Y\n",
    "np.shape(Y)"
   ]
  },
  {
   "cell_type": "code",
   "execution_count": null,
   "metadata": {},
   "outputs": [],
   "source": [
    "mean = "
   ]
  },
  {
   "cell_type": "code",
   "execution_count": null,
   "metadata": {},
   "outputs": [],
   "source": [
    "plt.scatter(np.arange(0,grid,1),acc2[20])\n",
    "plt.show()"
   ]
  },
  {
   "cell_type": "code",
   "execution_count": null,
   "metadata": {
    "collapsed": true
   },
   "outputs": [],
   "source": []
  },
  {
   "cell_type": "code",
   "execution_count": null,
   "metadata": {
    "collapsed": true
   },
   "outputs": [],
   "source": []
  }
 ],
 "metadata": {
  "kernelspec": {
   "display_name": "Python 3",
   "language": "python",
   "name": "python3"
  },
  "language_info": {
   "codemirror_mode": {
    "name": "ipython",
    "version": 3
   },
   "file_extension": ".py",
   "mimetype": "text/x-python",
   "name": "python",
   "nbconvert_exporter": "python",
   "pygments_lexer": "ipython3",
   "version": "3.6.1"
  }
 },
 "nbformat": 4,
 "nbformat_minor": 2
}
