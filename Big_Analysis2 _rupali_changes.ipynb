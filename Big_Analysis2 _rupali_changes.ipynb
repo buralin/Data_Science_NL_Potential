{
 "cells": [
  {
   "cell_type": "code",
   "execution_count": 42,
   "metadata": {
    "collapsed": true
   },
   "outputs": [],
   "source": [
    "import numpy as np\n",
    "import matplotlib.pyplot as plt\n",
    "from sklearn.linear_model import LinearRegression\n",
    "from sklearn.neural_network import MLPRegressor\n",
    "from pbcpy.base import Cell\n",
    "from pbcpy.grid import Grid\n",
    "from pbcpy.grid_functions import Grid_Function_Base, Grid_Function, Grid_Function_Reciprocal, Grid_Space\n",
    "from pbcpy.base import Coord\n",
    "from pbcpy.system import System\n",
    "from pbcpy.formats.qepp import PP\n",
    "from pbcpy.formats.xsf import XSF\n",
    "import matplotlib as mpl"
   ]
  },
  {
   "cell_type": "markdown",
   "metadata": {},
   "source": [
    "# Big Data from Al:"
   ]
  },
  {
   "cell_type": "markdown",
   "metadata": {},
   "source": [
    "* reading in $\\rho_{i}$ and $v_{T}$ from calculations"
   ]
  },
  {
   "cell_type": "code",
   "execution_count": 43,
   "metadata": {
    "collapsed": true
   },
   "outputs": [],
   "source": [
    "number_of_columns = 100\n",
    "grid = 125000"
   ]
  },
  {
   "cell_type": "code",
   "execution_count": 44,
   "metadata": {
    "scrolled": true
   },
   "outputs": [
    {
     "name": "stdout",
     "output_type": "stream",
     "text": [
      "1\n",
      "(50, 50, 50) 125000\n",
      "(50, 50, 50) 125000\n",
      "2\n",
      "(50, 50, 50) 125000\n",
      "(50, 50, 50) 125000\n",
      "3\n",
      "(50, 50, 50) 125000\n",
      "(50, 50, 50) 125000\n",
      "4\n",
      "(50, 50, 50) 125000\n",
      "(50, 50, 50) 125000\n",
      "5\n",
      "(50, 50, 50) 125000\n",
      "(50, 50, 50) 125000\n",
      "6\n",
      "(50, 50, 50) 125000\n",
      "(50, 50, 50) 125000\n",
      "7\n",
      "(50, 50, 50) 125000\n",
      "(50, 50, 50) 125000\n",
      "8\n",
      "(50, 50, 50) 125000\n",
      "(50, 50, 50) 125000\n",
      "9\n",
      "(50, 50, 50) 125000\n",
      "(50, 50, 50) 125000\n",
      "10\n",
      "(50, 50, 50) 125000\n",
      "(50, 50, 50) 125000\n",
      "11\n",
      "(50, 50, 50) 125000\n",
      "(50, 50, 50) 125000\n",
      "12\n",
      "(50, 50, 50) 125000\n",
      "(50, 50, 50) 125000\n",
      "13\n",
      "(50, 50, 50) 125000\n",
      "(50, 50, 50) 125000\n",
      "14\n",
      "(50, 50, 50) 125000\n",
      "(50, 50, 50) 125000\n",
      "15\n",
      "(50, 50, 50) 125000\n",
      "(50, 50, 50) 125000\n",
      "16\n",
      "(50, 50, 50) 125000\n",
      "(50, 50, 50) 125000\n",
      "17\n",
      "(50, 50, 50) 125000\n",
      "(50, 50, 50) 125000\n",
      "18\n",
      "(50, 50, 50) 125000\n",
      "(50, 50, 50) 125000\n",
      "19\n",
      "(50, 50, 50) 125000\n",
      "(50, 50, 50) 125000\n",
      "20\n",
      "(50, 50, 50) 125000\n",
      "(50, 50, 50) 125000\n",
      "21\n",
      "(50, 50, 50) 125000\n",
      "(50, 50, 50) 125000\n",
      "22\n",
      "(50, 50, 50) 125000\n",
      "(50, 50, 50) 125000\n",
      "23\n",
      "(50, 50, 50) 125000\n",
      "(50, 50, 50) 125000\n",
      "24\n",
      "(50, 50, 50) 125000\n",
      "(50, 50, 50) 125000\n",
      "25\n",
      "(50, 50, 50) 125000\n",
      "(50, 50, 50) 125000\n",
      "26\n",
      "(50, 50, 50) 125000\n",
      "(50, 50, 50) 125000\n",
      "27\n",
      "(50, 50, 50) 125000\n",
      "(50, 50, 50) 125000\n",
      "28\n",
      "(50, 50, 50) 125000\n",
      "(50, 50, 50) 125000\n",
      "29\n",
      "(50, 50, 50) 125000\n",
      "(50, 50, 50) 125000\n",
      "30\n",
      "(50, 50, 50) 125000\n",
      "(50, 50, 50) 125000\n",
      "31\n",
      "(50, 50, 50) 125000\n",
      "(50, 50, 50) 125000\n",
      "32\n",
      "(50, 50, 50) 125000\n",
      "(50, 50, 50) 125000\n",
      "33\n",
      "(50, 50, 50) 125000\n",
      "(50, 50, 50) 125000\n",
      "34\n",
      "(50, 50, 50) 125000\n",
      "(50, 50, 50) 125000\n",
      "35\n",
      "(50, 50, 50) 125000\n",
      "(50, 50, 50) 125000\n",
      "36\n",
      "(50, 50, 50) 125000\n",
      "(50, 50, 50) 125000\n",
      "37\n",
      "(50, 50, 50) 125000\n",
      "(50, 50, 50) 125000\n",
      "38\n",
      "(50, 50, 50) 125000\n",
      "(50, 50, 50) 125000\n",
      "39\n",
      "(50, 50, 50) 125000\n",
      "(50, 50, 50) 125000\n",
      "40\n",
      "(50, 50, 50) 125000\n",
      "(50, 50, 50) 125000\n",
      "41\n",
      "(50, 50, 50) 125000\n",
      "(50, 50, 50) 125000\n",
      "42\n",
      "(50, 50, 50) 125000\n",
      "(50, 50, 50) 125000\n",
      "43\n",
      "(50, 50, 50) 125000\n",
      "(50, 50, 50) 125000\n",
      "44\n",
      "(50, 50, 50) 125000\n",
      "(50, 50, 50) 125000\n",
      "45\n",
      "(50, 50, 50) 125000\n",
      "(50, 50, 50) 125000\n",
      "46\n",
      "(50, 50, 50) 125000\n",
      "(50, 50, 50) 125000\n",
      "47\n",
      "(50, 50, 50) 125000\n",
      "(50, 50, 50) 125000\n",
      "48\n",
      "(50, 50, 50) 125000\n",
      "(50, 50, 50) 125000\n",
      "49\n",
      "(50, 50, 50) 125000\n",
      "(50, 50, 50) 125000\n",
      "50\n",
      "(50, 50, 50) 125000\n",
      "(50, 50, 50) 125000\n",
      "51\n",
      "(50, 50, 50) 125000\n",
      "(50, 50, 50) 125000\n",
      "52\n",
      "(50, 50, 50) 125000\n",
      "(50, 50, 50) 125000\n",
      "53\n",
      "(50, 50, 50) 125000\n",
      "(50, 50, 50) 125000\n",
      "54\n",
      "(50, 50, 50) 125000\n",
      "(50, 50, 50) 125000\n",
      "55\n",
      "(50, 50, 50) 125000\n",
      "(50, 50, 50) 125000\n",
      "56\n",
      "(50, 50, 50) 125000\n",
      "(50, 50, 50) 125000\n",
      "57\n",
      "(50, 50, 50) 125000\n",
      "(50, 50, 50) 125000\n",
      "58\n",
      "(50, 50, 50) 125000\n",
      "(50, 50, 50) 125000\n",
      "59\n",
      "(50, 50, 50) 125000\n",
      "(50, 50, 50) 125000\n",
      "60\n",
      "(50, 50, 50) 125000\n",
      "(50, 50, 50) 125000\n",
      "61\n",
      "(50, 50, 50) 125000\n",
      "(50, 50, 50) 125000\n",
      "62\n",
      "(50, 50, 50) 125000\n",
      "(50, 50, 50) 125000\n",
      "63\n",
      "(50, 50, 50) 125000\n",
      "(50, 50, 50) 125000\n",
      "64\n",
      "(50, 50, 50) 125000\n",
      "(50, 50, 50) 125000\n",
      "65\n",
      "(50, 50, 50) 125000\n",
      "(50, 50, 50) 125000\n",
      "66\n",
      "(50, 50, 50) 125000\n",
      "(50, 50, 50) 125000\n",
      "67\n",
      "(50, 50, 50) 125000\n",
      "(50, 50, 50) 125000\n",
      "68\n",
      "(50, 50, 50) 125000\n",
      "(50, 50, 50) 125000\n",
      "69\n",
      "(50, 50, 50) 125000\n",
      "(50, 50, 50) 125000\n",
      "70\n",
      "(50, 50, 50) 125000\n",
      "(50, 50, 50) 125000\n",
      "71\n",
      "(50, 50, 50) 125000\n",
      "(50, 50, 50) 125000\n",
      "72\n",
      "(50, 50, 50) 125000\n",
      "(50, 50, 50) 125000\n",
      "73\n",
      "(50, 50, 50) 125000\n",
      "(50, 50, 50) 125000\n",
      "74\n",
      "(50, 50, 50) 125000\n",
      "(50, 50, 50) 125000\n",
      "75\n",
      "(50, 50, 50) 125000\n",
      "(50, 50, 50) 125000\n",
      "76\n",
      "(50, 50, 50) 125000\n",
      "(50, 50, 50) 125000\n",
      "77\n",
      "(50, 50, 50) 125000\n",
      "(50, 50, 50) 125000\n",
      "78\n",
      "(50, 50, 50) 125000\n",
      "(50, 50, 50) 125000\n",
      "79\n",
      "(50, 50, 50) 125000\n",
      "(50, 50, 50) 125000\n",
      "80\n",
      "(50, 50, 50) 125000\n",
      "(50, 50, 50) 125000\n",
      "81\n",
      "(50, 50, 50) 125000\n",
      "(50, 50, 50) 125000\n",
      "82\n",
      "(50, 50, 50) 125000\n",
      "(50, 50, 50) 125000\n",
      "83\n",
      "(50, 50, 50) 125000\n",
      "(50, 50, 50) 125000\n",
      "84\n",
      "(50, 50, 50) 125000\n",
      "(50, 50, 50) 125000\n",
      "85\n",
      "(50, 50, 50) 125000\n",
      "(50, 50, 50) 125000\n",
      "86\n",
      "(50, 50, 50) 125000\n",
      "(50, 50, 50) 125000\n",
      "87\n",
      "(50, 50, 50) 125000\n",
      "(50, 50, 50) 125000\n",
      "88\n",
      "(50, 50, 50) 125000\n",
      "(50, 50, 50) 125000\n",
      "89\n",
      "(50, 50, 50) 125000\n",
      "(50, 50, 50) 125000\n",
      "90\n",
      "(50, 50, 50) 125000\n",
      "(50, 50, 50) 125000\n",
      "91\n",
      "(50, 50, 50) 125000\n",
      "(50, 50, 50) 125000\n",
      "92\n",
      "(50, 50, 50) 125000\n",
      "(50, 50, 50) 125000\n",
      "93\n",
      "(50, 50, 50) 125000\n",
      "(50, 50, 50) 125000\n",
      "94\n",
      "(50, 50, 50) 125000\n",
      "(50, 50, 50) 125000\n",
      "95\n",
      "(50, 50, 50) 125000\n",
      "(50, 50, 50) 125000\n",
      "96\n",
      "(50, 50, 50) 125000\n",
      "(50, 50, 50) 125000\n",
      "97\n",
      "(50, 50, 50) 125000\n",
      "(50, 50, 50) 125000\n",
      "98\n",
      "(50, 50, 50) 125000\n",
      "(50, 50, 50) 125000\n",
      "99\n",
      "(50, 50, 50) 125000\n",
      "(50, 50, 50) 125000\n",
      "100\n",
      "(50, 50, 50) 125000\n",
      "(50, 50, 50) 125000\n"
     ]
    }
   ],
   "source": [
    "data_dens = np.zeros((number_of_columns,125000))\n",
    "data_vt = np.zeros((number_of_columns,125000))\n",
    "\n",
    "for i in range(1,number_of_columns+1):\n",
    "    #if i == 68:\n",
    "    #    print('NOT CONVERGED')\n",
    "    #else:\n",
    "    print(i)\n",
    "    density = PP('Densities2/Al_'+str(i)+'_0_fde_0rho.pp').read()\n",
    "    kin_pot = PP('Potentials2/Al_'+str(i)+'_0_vt_rhotot_alph.pp').read()\n",
    "    rho = density.plot\n",
    "    v_t = kin_pot.plot\n",
    "    \n",
    "    grid_real_rho = Grid_Space(rho.grid.at,rho.grid.nr)\n",
    "    grid_real_vt = Grid_Space(v_t.grid.at,v_t.grid.nr)\n",
    "\n",
    "    mydens = Grid_Function(grid_real_rho,griddata_3d=rho.values)\n",
    "    myvt = Grid_Function(grid_real_vt,griddata_3d=v_t.values)\n",
    "    \n",
    "    data_dens[i-1] = mydens.get_values_flatarray()\n",
    "    data_vt[i-1] = myvt.get_values_flatarray()"
   ]
  },
  {
   "cell_type": "code",
   "execution_count": 45,
   "metadata": {},
   "outputs": [
    {
     "data": {
      "text/plain": [
       "((100, 125000), (100, 125000))"
      ]
     },
     "execution_count": 45,
     "metadata": {},
     "output_type": "execute_result"
    }
   ],
   "source": [
    "np.shape(data_dens), np.shape(data_vt)"
   ]
  },
  {
   "cell_type": "code",
   "execution_count": 46,
   "metadata": {
    "collapsed": true
   },
   "outputs": [],
   "source": [
    "X = np.zeros((number_of_columns,grid))\n",
    "Y = np.zeros((number_of_columns,grid))\n",
    "\n",
    "for i in range(number_of_columns):\n",
    "    indx  = np.argsort(data_dens[i])\n",
    "    #indx2 = np.argsort(data_vt[i])\n",
    "    X[i] = data_dens[i][indx]\n",
    "    Y[i] = data_vt[i][indx]"
   ]
  },
  {
   "cell_type": "code",
   "execution_count": 47,
   "metadata": {
    "scrolled": true
   },
   "outputs": [
    {
     "data": {
      "image/png": "[encoded data removed]",
      "text/plain": [
       "<matplotlib.figure.Figure at 0x7f0b5c5df5c0>"
      ]
     },
     "metadata": {},
     "output_type": "display_data"
    }
   ],
   "source": [
    "plt.scatter(X[3],Y[3])\n",
    "plt.xlabel('density')\n",
    "plt.ylabel('v_t')\n",
    "plt.show()"
   ]
  },
  {
   "cell_type": "code",
   "execution_count": 48,
   "metadata": {},
   "outputs": [
    {
     "data": {
      "text/plain": [
       "((100, 125000), (100, 125000))"
      ]
     },
     "execution_count": 48,
     "metadata": {},
     "output_type": "execute_result"
    }
   ],
   "source": [
    "np.shape(X), np.shape(Y)"
   ]
  },
  {
   "cell_type": "code",
   "execution_count": null,
   "metadata": {
    "collapsed": true
   },
   "outputs": [],
   "source": [
    "#print(X[1],Y[1])"
   ]
  },
  {
   "cell_type": "code",
   "execution_count": null,
   "metadata": {
    "collapsed": true
   },
   "outputs": [],
   "source": [
    "#from sklearn import svm\n",
    "#support_vector = svm.SVR()"
   ]
  },
  {
   "cell_type": "code",
   "execution_count": null,
   "metadata": {
    "collapsed": true
   },
   "outputs": [],
   "source": [
    "#support_vector.fit(X,Y) \n",
    "#support_vector.predict([[1, 1]])"
   ]
  },
  {
   "cell_type": "code",
   "execution_count": 49,
   "metadata": {
    "collapsed": true
   },
   "outputs": [],
   "source": [
    "from sklearn.neural_network import MLPRegressor\n",
    "from sklearn.model_selection import train_test_split, cross_val_score"
   ]
  },
  {
   "cell_type": "code",
   "execution_count": null,
   "metadata": {
    "collapsed": true
   },
   "outputs": [],
   "source": []
  },
  {
   "cell_type": "code",
   "execution_count": null,
   "metadata": {
    "collapsed": true
   },
   "outputs": [],
   "source": [
    "#scores"
   ]
  },
  {
   "cell_type": "code",
   "execution_count": null,
   "metadata": {},
   "outputs": [],
   "source": [
    "max_iter = np.zeros(4)\n",
    "max_iter = [50, 100, 150, 200 ]\n",
    "for m in max_iter : \n",
    "    model2 = MLPRegressor(hidden_layer_sizes=(10,10), max_iter = m)\n",
    "    model2.fit(X,Y)\n",
    "    print(model2.score(X,Y))"
   ]
  },
  {
   "cell_type": "code",
   "execution_count": null,
   "metadata": {},
   "outputs": [],
   "source": [
    "n = np.zeros(4)\n",
    "n_layer = [10,20]\n",
    "#n_layer = ((10,), (15,), (20,) )\n",
    "n = [5,10]"
   ]
  },
  {
   "cell_type": "code",
   "execution_count": null,
   "metadata": {},
   "outputs": [],
   "source": [
    "for i in n_layer :\n",
    "    for j in n: \n",
    "        print (i)\n",
    "        print (j)\n",
    "        model2 = MLPRegressor(hidden_layer_sizes=(i,j))\n",
    "        model2.fit(X,Y)\n",
    "        print(model2.score(X,Y))"
   ]
  },
  {
   "cell_type": "code",
   "execution_count": null,
   "metadata": {},
   "outputs": [],
   "source": [
    "for i in n_layer :\n",
    "    for j in n: \n",
    "        print (i)\n",
    "        print (j)\n",
    "        model2 = MLPRegressor(hidden_layer_sizes=(i,j))\n",
    "        model2.fit(X,Y)\n",
    "        scores = cross_val_score(model2,X,Y)\n",
    "        print(scores)"
   ]
  },
  {
   "cell_type": "code",
   "execution_count": null,
   "metadata": {},
   "outputs": [],
   "source": [
    "X_train, X_test, Y_train, Y_test = train_test_split(X,Y,test_size = 0.2, train_size = 0.8)\n",
    "np.shape(X_train), np.shape(X_test), np.shape(Y_test), np.shape(Y_train)"
   ]
  },
  {
   "cell_type": "code",
   "execution_count": null,
   "metadata": {},
   "outputs": [],
   "source": [
    "for i in n_layer :\n",
    "    for j in n: \n",
    "        print (i)\n",
    "        print (j)\n",
    "        model2 = MLPRegressor(hidden_layer_sizes=(i,j))\n",
    "        model2.fit(X_train,Y_train)\n",
    "        prediction = model2.predict(X_test)\n",
    "        np.shape(prediction)\n",
    "        print(X_test[0])\n",
    "        plt.scatter\n",
    "        plt.scatter(X_test[0],prediction[0], label = 'predict')\n",
    "        plt.legend()\n",
    "        plt.show()\n",
    "        "
   ]
  },
  {
   "cell_type": "code",
   "execution_count": null,
   "metadata": {},
   "outputs": [],
   "source": [
    "import matplotlib as mpl\n",
    "n = np.zeros(4)\n",
    "n_layer = [3]\n",
    "#n_layer = ((10,), (15,), (20,) )\n",
    "n = [3]\n",
    "mpl.rcParams['figure.figsize'] = (20,20)\n",
    "number_of_plots = 2\n",
    "inner = 0\n",
    "fig, axes = plt.subplots(nrows=number_of_plots,ncols=number_of_plots)\n",
    "for i in n_layer :\n",
    "    for j in n: \n",
    "        print (i)\n",
    "        print (j)\n",
    "        model2 = MLPRegressor(hidden_layer_sizes=(i,j))\n",
    "        model2.fit(X_train,Y_train)\n",
    "        prediction = model2.predict(X_test)\n",
    "        print(np.shape(X_test))\n",
    "        print(np.shape(Y_test))\n",
    "        print(np.shape(prediction))\n",
    "        for i in range(20) : \n",
    "            plt.scatter(X_test[i], Y_test[i],label = 'actual')\n",
    "            plt.scatter(X_test[i],prediction[i],label = 'predict')\n",
    "            plt.legend()\n",
    "            plt.show()\n",
    "        "
   ]
  },
  {
   "cell_type": "code",
   "execution_count": 51,
   "metadata": {},
   "outputs": [
    {
     "name": "stdout",
     "output_type": "stream",
     "text": [
      "(20, 125000)\n",
      "(20, 125000)\n",
      "(20, 125000)\n"
     ]
    },
    {
     "data": {
      "image/png": "[encoded data removed]",
      "text/plain": [
       "<matplotlib.figure.Figure at 0x7f0b5ed66860>"
      ]
     },
     "metadata": {},
     "output_type": "display_data"
    },
    {
     "data": {
      "image/png": "[encoded data removed]",
      "text/plain": [
       "<matplotlib.figure.Figure at 0x7f0b52ec8f98>"
      ]
     },
     "metadata": {},
     "output_type": "display_data"
    },
    {
     "data": {
      "image/png": "[encoded data removed]",
      "text/plain": [
       "<matplotlib.figure.Figure at 0x7f0b51617160>"
      ]
     },
     "metadata": {},
     "output_type": "display_data"
    },
    {
     "data": {
      "image/png": "[encoded data removed]",
      "text/plain": [
       "<matplotlib.figure.Figure at 0x7f0b5320f208>"
      ]
     },
     "metadata": {},
     "output_type": "display_data"
    }
   ],
   "source": [
    "import matplotlib as mpl\n",
    "model2 = MLPRegressor(hidden_layer_sizes=(20,5))\n",
    "model2.fit(X_train,Y_train)\n",
    "prediction = model2.predict(X_test)\n",
    "print(np.shape(X_test))\n",
    "print(np.shape(Y_test))\n",
    "print(np.shape(prediction))\n",
    "for i in range(1,21,5) : \n",
    "    plt.scatter(X_test[i], Y_test[i],label = 'actual')\n",
    "    plt.scatter(X_test[i],prediction[i],label = 'predict')\n",
    "    plt.legend()\n",
    "    plt.show()"
   ]
  },
  {
   "cell_type": "code",
   "execution_count": null,
   "metadata": {
    "collapsed": true
   },
   "outputs": [],
   "source": []
  }
 ],
 "metadata": {
  "kernelspec": {
   "display_name": "Python 3",
   "language": "python",
   "name": "python3"
  },
  "language_info": {
   "codemirror_mode": {
    "name": "ipython",
    "version": 3
   },
   "file_extension": ".py",
   "mimetype": "text/x-python",
   "name": "python",
   "nbconvert_exporter": "python",
   "pygments_lexer": "ipython3",
   "version": "3.6.1"
  }
 },
 "nbformat": 4,
 "nbformat_minor": 2
}
